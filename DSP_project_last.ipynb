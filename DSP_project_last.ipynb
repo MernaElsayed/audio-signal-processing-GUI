{
 "cells": [
  {
   "cell_type": "markdown",
   "id": "01ddb124-fdb6-49ec-b59c-00ad02ea900a",
   "metadata": {},
   "source": [
    "Importing libraries\n"
   ]
  },
  {
   "cell_type": "code",
   "execution_count": 33,
   "id": "c4eadab0-dd10-416e-9ff9-5bb7532376a6",
   "metadata": {},
   "outputs": [],
   "source": [
    "import tkinter as tk\n",
    "from tkinter import filedialog, messagebox, IntVar,ttk\n",
    "import numpy as np\n",
    "from pydub import AudioSegment\n",
    "from pydub.playback import play\n",
    "import librosa\n",
    "import speech_recognition as sr\n",
    "import noisereduce as nr"
   ]
  },
  {
   "cell_type": "markdown",
   "id": "28f2b073-4613-4cd0-b3ba-ede2b1298ca8",
   "metadata": {},
   "source": [
    "Loading file\n"
   ]
  },
  {
   "cell_type": "code",
   "execution_count": 34,
   "id": "fbe128a3-6151-43c3-a0f6-15f516b61b6e",
   "metadata": {},
   "outputs": [],
   "source": [
    "def open_file():\n",
    "    filepath = filedialog.askopenfilename(filetypes=[(\"Audio Files\", \"*.wav\")])\n",
    "    if filepath:\n",
    "        filepath_entry.delete(0, tk.END)\n",
    "        filepath_entry.insert(0, filepath)"
   ]
  },
  {
   "cell_type": "markdown",
   "id": "7cef7846-abe8-44e7-9af5-2e85f44c1f04",
   "metadata": {},
   "source": [
    "Main function that navigates to other functions"
   ]
  },
  {
   "cell_type": "code",
   "execution_count": 35,
   "id": "0c9450a0-4907-4d3c-8696-1e5156a1ce9f",
   "metadata": {},
   "outputs": [],
   "source": [
    "def main():\n",
    "    filepath = filepath_entry.get()\n",
    "    if not filepath:\n",
    "        messagebox.showinfo(\"Error\", \"Please select an audio file.\")\n",
    "        return\n",
    "    \n",
    "    intvars = [echo_var, noise_reduction_var, transcript_var, cartoonic_var,playback_var]\n",
    "    checked_count = sum(var.get() for var in intvars)\n",
    "    \n",
    "    if checked_count > 1 :\n",
    "        messagebox.showerror(\"Error\", \"Please select only one service.\")\n",
    "        return False\n",
    "    elif checked_count < 1 :\n",
    "        messagebox.showerror(\"Error\", \"Please select at least one service.\")\n",
    "        return False\n",
    "    \n",
    "    if echo_var.get() == 1:\n",
    "        transform_audio()\n",
    "    elif noise_reduction_var.get() == 1: \n",
    "        remove_noise()\n",
    "    elif transcript_var.get() == 1: \n",
    "        transcript()    \n",
    "    elif cartoonic_var.get() == 1:\n",
    "        cartoonify_audio()\n",
    "    elif playback_var.get() == 1:\n",
    "        playback_audio()\n",
    "        \n",
    "    return True\n"
   ]
  },
  {
   "cell_type": "markdown",
   "id": "5940f087-999f-45ca-a58e-5bb1143d0fc6",
   "metadata": {},
   "source": [
    "Echo function"
   ]
  },
  {
   "cell_type": "code",
   "execution_count": 36,
   "id": "b6f19f4b-9310-4008-a9a4-b1a33e280e1d",
   "metadata": {},
   "outputs": [],
   "source": [
    "def transform_audio():\n",
    "    filepath = filepath_entry.get()\n",
    "    audio_data, sample_rate = librosa.load(filepath)\n",
    "        \n",
    "    delay = int(0.2 * sample_rate) \n",
    "    echo_data = np.zeros(len(audio_data))\n",
    "    echo_data[delay:] = audio_data[:-delay] \n",
    "    audio_with_echo = audio_data + echo_data\n",
    "\n",
    "    audio_with_echo = (audio_with_echo * (2 ** 15)).astype(np.int16)\n",
    "        \n",
    "    echoed_audio_segment = AudioSegment(audio_with_echo.tobytes(), frame_rate=sample_rate, sample_width=2, channels=1)\n",
    "    play(echoed_audio_segment)\n",
    "    save_file(echoed_audio_segment)"
   ]
  },
  {
   "cell_type": "markdown",
   "id": "46317c9c-33f1-4093-9714-1154fa03bb1d",
   "metadata": {},
   "source": [
    "Noise reduction function"
   ]
  },
  {
   "cell_type": "code",
   "execution_count": 37,
   "id": "92ce3b42-d596-4ab1-ae81-936ee0babe9b",
   "metadata": {},
   "outputs": [],
   "source": [
    "def remove_noise():\n",
    "    filepath = filepath_entry.get()   \n",
    "    audio_data, sample_rate = librosa.load(filepath, sr=None)\n",
    "    \n",
    "    noise_reduced_audio = nr.reduce_noise(y=audio_data, sr=sample_rate)\n",
    "    \n",
    "    noise_reduced_audio = (noise_reduced_audio * (2 ** 15)).astype(np.int16)\n",
    "\n",
    "    noise_reduced_segment = AudioSegment(noise_reduced_audio.tobytes(), frame_rate=sample_rate, sample_width=2, channels=1)\n",
    "    play(noise_reduced_segment)\n",
    "    save_file(noise_reduced_segment)\n"
   ]
  },
  {
   "cell_type": "markdown",
   "id": "58ff4f2a-2d61-40dd-a99b-910086027f54",
   "metadata": {},
   "source": [
    "Transcript function"
   ]
  },
  {
   "cell_type": "code",
   "execution_count": 38,
   "id": "84b0d55b-f2aa-4b75-a494-1b710cc8ebfa",
   "metadata": {},
   "outputs": [],
   "source": [
    "\n",
    "def transcript():\n",
    "    filepath = filepath_entry.get() \n",
    "    recognizer = sr.Recognizer()\n",
    "    harvard = sr.AudioFile(filepath)\n",
    "    \n",
    "    def record_audio():\n",
    "        with harvard as source:\n",
    "            recognizer.adjust_for_ambient_noise(source, duration=0.2)\n",
    "            audio = recognizer.record(source)\n",
    "        return audio\n",
    "    \n",
    "    def recognize_speech(audio):\n",
    "        try:\n",
    "            alternatives = recognizer.recognize_google(audio, show_all=True)\n",
    "            if alternatives:\n",
    "                best_alternative = max(alternatives['alternative'], key=lambda x: x.get('confidence', 0))\n",
    "                best_text = best_alternative['transcript']\n",
    "                print(\"Text:\", best_text)\n",
    "                return best_text\n",
    "            else:\n",
    "                print(\"No speech detected.\")\n",
    "                return None\n",
    "        except sr.UnknownValueError:\n",
    "            print(\"Sorry, I couldn't understand the audio.\")\n",
    "            return None\n",
    "        except sr.RequestError:\n",
    "            print(\"There was an error with the speech recognition service.\")\n",
    "            return None\n",
    "\n",
    "    audio = record_audio()\n",
    "    recognized_text =  recognize_speech(audio)\n",
    "    if recognized_text is not None:\n",
    "        text_box.insert(tk.END, \"TEXT: \" + recognized_text)"
   ]
  },
  {
   "cell_type": "markdown",
   "id": "4ff2d332-d31a-4c1d-bb12-860f37efb8c5",
   "metadata": {},
   "source": [
    "Cartoon effect"
   ]
  },
  {
   "cell_type": "code",
   "execution_count": 39,
   "id": "f1b4741c-12c2-4127-9f80-5e4916053ce6",
   "metadata": {},
   "outputs": [],
   "source": [
    "def cartoonify_audio():\n",
    "    filepath = filepath_entry.get()\n",
    "    audio_data, sample_rate = librosa.load(filepath, sr=None) \n",
    "\n",
    "    n_steps = 5  \n",
    "    modified_audio = librosa.effects.pitch_shift(audio_data, sr=sample_rate, n_steps=n_steps)\n",
    "\n",
    "    modified_audio = (modified_audio * (2 ** 15)).astype(np.int16)\n",
    "\n",
    "    modified_segment = AudioSegment(modified_audio.tobytes(), frame_rate=sample_rate, sample_width=2, channels=1)\n",
    "    play(modified_segment)\n",
    "    save_file(modified_segment)\n"
   ]
  },
  {
   "cell_type": "markdown",
   "id": "a96428c1-34ea-41f6-9432-217e3df7cabc",
   "metadata": {},
   "source": [
    "Sound speed"
   ]
  },
  {
   "cell_type": "code",
   "execution_count": 40,
   "id": "36e12e70-93bf-4426-80d9-f619c0273656",
   "metadata": {},
   "outputs": [],
   "source": [
    "def playback_audio():\n",
    "    filepath = filepath_entry.get()\n",
    "    audio_data, sample_rate = librosa.load(filepath)\n",
    "    \n",
    "    speed_options = {'0.5x': 0.5, '1.5x': 1.5, '2x': 2}\n",
    "    selected_speed = speed_var.get()\n",
    "    \n",
    "    if selected_speed in speed_options:\n",
    "        modified_audio = librosa.effects.time_stretch(audio_data, rate=speed_options[selected_speed])\n",
    "        \n",
    "        modified_audio = (modified_audio * (2 ** 15)).astype(np.int16)\n",
    "        \n",
    "        modified_segment = AudioSegment(modified_audio.tobytes(), frame_rate=sample_rate, sample_width=2, channels=1)\n",
    "        play(modified_segment)\n",
    "    else:\n",
    "        messagebox.showerror(\"Error\", \"Please select a playback speed.\")"
   ]
  },
  {
   "cell_type": "code",
   "execution_count": 41,
   "id": "7edb84ca-d0a7-40a6-9739-68b07cf0bdac",
   "metadata": {},
   "outputs": [],
   "source": [
    "def save_file(audio_segment):\n",
    "    filepath = filedialog.asksaveasfilename(defaultextension=\".wav\", filetypes=[(\"WAV files\", \"*.wav\")])\n",
    "    if filepath:\n",
    "        audio_segment.export(filepath, format=\"wav\")"
   ]
  },
  {
   "cell_type": "markdown",
   "id": "53957447-dea3-459b-af51-414dc6999978",
   "metadata": {},
   "source": [
    "GUI part"
   ]
  },
  {
   "cell_type": "code",
   "execution_count": null,
   "id": "ee30dcc5-eff1-4236-ad24-ed2e4eed6d45",
   "metadata": {},
   "outputs": [
    {
     "name": "stdout",
     "output_type": "stream",
     "text": [
      "Text: you don't believe it yourself\n"
     ]
    }
   ],
   "source": [
    "root = tk.Tk()\n",
    "root.geometry(\"600x540\")\n",
    "root.configure(bg=\"LavenderBlush2\")\n",
    "root.title(\"DSP project\")\n",
    "\n",
    "base_frame = tk.Frame(root, padx=10, pady=50)\n",
    "base_frame.configure(bg=\"DeepPink4\")\n",
    "base_frame.pack()\n",
    "\n",
    "filepath_label = tk.Label(base_frame, text=\"Select an audio file:\")\n",
    "filepath_label.grid(row=0, column=0, sticky=\"w\")\n",
    "\n",
    "filepath_entry = tk.Entry(base_frame, width=40)\n",
    "filepath_entry.grid(row=0, column=1, padx=5)\n",
    "\n",
    "browse_btn = tk.Button(base_frame, text=\"Browse\", command=open_file)\n",
    "browse_btn.grid(row=0, column=2, padx=5)\n",
    "\n",
    "service_label = tk.Label(base_frame, text=\"Choose the service:\")\n",
    "service_label.grid(row=3, column=0, sticky=\"w\", pady=5)\n",
    "\n",
    "echo_var = IntVar()\n",
    "checkbox_echo = tk.Checkbutton(base_frame, text=\"Add Echo Effect\", variable=echo_var)\n",
    "checkbox_echo.grid(row=4, column=1, sticky=\"w\")\n",
    "\n",
    "noise_reduction_var = IntVar()\n",
    "checkbox_noise_reduction = tk.Checkbutton(base_frame, text=\"Remove noise\", variable=noise_reduction_var)\n",
    "checkbox_noise_reduction.grid(row=5, column=1, sticky=\"w\")\n",
    "\n",
    "transcript_var = IntVar()\n",
    "checkbox_transcript = tk.Checkbutton(base_frame, text=\"Transcript\", variable=transcript_var)\n",
    "checkbox_transcript.grid(row=6, column=1, sticky=\"w\")\n",
    "\n",
    "cartoonic_var = IntVar()\n",
    "checkbox_cartoonic = tk.Checkbutton(base_frame, text=\"Cartoonic Sound\", variable=cartoonic_var)\n",
    "checkbox_cartoonic.grid(row=7, column=1, sticky=\"w\")\n",
    "\n",
    "playback_var = IntVar()\n",
    "checkbox_playback = tk.Checkbutton(base_frame, text=\"Playback\", variable=playback_var)\n",
    "checkbox_playback.grid(row=8, column=1, sticky=\"w\")\n",
    "\n",
    "speed_var = tk.StringVar()\n",
    "speed_var.set(\"0.5x\")  # Default speed\n",
    "\n",
    "speed_options = ['0.5x', '1.5x', '2x']\n",
    "speed_menu = ttk.Combobox(base_frame, textvariable=speed_var, values=speed_options)\n",
    "speed_menu.grid(row=9, column=1)\n",
    "\n",
    "text_box = tk.Text(base_frame, height=7, width=40, bg=\"DeepPink4\", borderwidth=0)\n",
    "text_box.grid(row=10, column=1)\n",
    "\n",
    "transform_btn = tk.Button(base_frame, text=\"Transform\", command=main)\n",
    "transform_btn.grid(row=11, column=2, columnspan=3, pady=10)\n",
    "\n",
    "download_btn = tk.Button(base_frame, text=\"Download\", command=save_file)\n",
    "download_btn.grid(row=13, column=2, columnspan=3, pady=10)\n",
    "\n",
    "root.mainloop()\n"
   ]
  },
  {
   "cell_type": "code",
   "execution_count": null,
   "id": "e744789e-1a55-4ef3-acea-15f760fc64c3",
   "metadata": {},
   "outputs": [],
   "source": []
  },
  {
   "cell_type": "code",
   "execution_count": null,
   "id": "d260364d-fc13-4744-b491-3bbb9cd3ecc2",
   "metadata": {},
   "outputs": [],
   "source": []
  },
  {
   "cell_type": "code",
   "execution_count": null,
   "id": "a2933616-1531-4e37-9b58-7bc58a629057",
   "metadata": {},
   "outputs": [],
   "source": []
  }
 ],
 "metadata": {
  "kernelspec": {
   "display_name": "Python 3 (ipykernel)",
   "language": "python",
   "name": "python3"
  },
  "language_info": {
   "codemirror_mode": {
    "name": "ipython",
    "version": 3
   },
   "file_extension": ".py",
   "mimetype": "text/x-python",
   "name": "python",
   "nbconvert_exporter": "python",
   "pygments_lexer": "ipython3",
   "version": "3.11.7"
  }
 },
 "nbformat": 4,
 "nbformat_minor": 5
}
